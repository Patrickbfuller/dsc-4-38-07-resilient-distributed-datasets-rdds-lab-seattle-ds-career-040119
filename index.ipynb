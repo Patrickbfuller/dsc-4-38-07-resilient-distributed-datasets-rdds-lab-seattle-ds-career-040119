{
 "cells": [
  {
   "cell_type": "markdown",
   "metadata": {},
   "source": [
    "## Resilient Distributed Datasets (RDDs) - Lab\n",
    "\n",
    "Resilient Distributed Datasets (RDD) are fundamental data structures of Spark. An RDD is, essentially, the Spark representation of a set of data, spread across multiple machines, with APIs to let you act on it. An RDD could come from any datasource, e.g. text files, a database, a JSON file etc.\n",
    "\n",
    "\n",
    "## Objectives\n",
    "\n",
    "You will be able to:\n",
    "\n",
    "* Describe RDDs as fundamental storage units in Spark computing environment\n",
    "* Create RDDs from Python collections\n",
    "* Set number of partitions for parallelizing RDDs\n",
    "* Review an RDD's dependancy graph at different stages of processing. \n",
    "* Apply the map(func) transformation to a given function on all elements of an RDD in different partitions\n",
    "* Use collect() action to trigger the processing stage of spark's lazy evaluation\n",
    "* Use count() action to calculate the number of elements of a parallelized RDD\n",
    "* Use filter(func) to filter unwanted data from RDDs\n",
    "* Develop an understanding of Python's lambda functions for RDDs processing\n"
   ]
  },
  {
   "cell_type": "markdown",
   "metadata": {},
   "source": [
    "## What are RDDs? \n",
    "\n",
    "To get a better understanding of RDDs, let's break down each one of the components of the acronym RDD:\n",
    "\n",
    "Resilient: RDDs are considered \"resilient\" because they have built-in fault tolerance. This means that even if one of the nodes goes offline, RDDs will be able to restore the data. This is already a huge advantage compared to standard storage. If a standard computer dies will performing an operation, all of its memory will be lost in the process. With RDDs, multiple nodes can go offline, and the action will still be held in working memory.\n",
    "\n",
    "Distributed: The data is contained on multiple nodes of a cluster-computing operation. It is efficiently partitioned to allow for parallelism.\n",
    "\n",
    "Dataset: The dataset has been * partitioned * across the multiple nodes. \n",
    "\n",
    "RDDs are the building block upon which more high level spark operations are based upon. Chances are, if you are performing an action using Spark, the operation involves RDDs. \n",
    "\n",
    "\n",
    "\n",
    "Key Characteristics of RDDs:\n",
    "\n",
    "- Immutable: Once an RDD is created, it cannot be modified.\n",
    "- Lazily Evaluated: RDDs will not be evaluated until an action is triggered. Essentially, when RDDs are created, they are programmed to perform some action, but that function will not get activated until it is explicitly called. The reason for lazy evaluation is that allows users to organize the actions of their Spark program into smaller actions. It also saves unnecessary computation and memory load.\n",
    "- In-Memory: The operations in Spark are performed in-memory rather than in the Database. This is what allows Spark to perform fast operations with very large quantities of data.\n",
    "\n",
    "\n"
   ]
  },
  {
   "cell_type": "markdown",
   "metadata": {},
   "source": [
    "### RDD Transformations vs Actions\n",
    "\n",
    "In Spark, we first create a __base RDD__ and then apply one or more transformations to that base RDD following our processing needs. Being immutable means, **once an RDD is created, it cannot be changed**. As a result, **each transformation of an RDD creates a new RDD**. Finally, we can apply one or more **actions** to the RDDs. Spark uses lazy evaluation, so transformations are not actually executed until an action occurs.\n",
    "\n",
    "\n",
    "<img src=\"rdd1.png\" width=500>"
   ]
  },
  {
   "cell_type": "markdown",
   "metadata": {},
   "source": [
    "### Transformations\n",
    "\n",
    "Transformations create a new data set from an existing one by passing each dataset element through a function and returning a new RDD representing the results. In short, creating an RDD from an existing RDD is ‘transformation’.\n",
    "All transformations in Spark are lazy. They do not compute their results right away. Instead, they just remember the transformations applied to some base data set (e.g. a file). The transformations are only computed when an action requires a result that needs to be returned to the driver program.\n",
    "A transformation a RDD that returns another RDD, like map, flatMap, filter, reduceByKey, join, cogroup, etc.\n",
    "\n",
    "### Actions\n",
    "Actions return final results of RDD computations. Actions trigger execution using lineage graph to load the data into original RDD and carry out all intermediate transformations and return the final results to the Driver program or writes it out to the file system. An action returns a value (to a Spark driver - the user program).\n",
    "\n",
    "Here are some of key transformations and actions that we will explore.\n",
    "\n",
    "\n",
    "| Transformations   | Actions       |\n",
    "|-------------------|---------------|\n",
    "| map(func)         | reduce(func)  |\n",
    "| filter(func)      | collect()     |\n",
    "| groupByKey()      | count()       |\n",
    "| reduceByKey(func) | first()       |\n",
    "| mapValues(func)   | take()        |\n",
    "| sample()          | countByKey()  |\n",
    "| distinct()        | foreach(func) |\n",
    "| sortByKey()       |               |\n"
   ]
  },
  {
   "cell_type": "markdown",
   "metadata": {},
   "source": [
    "Let's see how transformations and actions work through a simple example. In this example, we will perform several actions and transformations on RDDs in order to obtain a better understanding of Spark processing. \n",
    "\n",
    "### Create a Python collection \n",
    "\n",
    "We need some data to start experimenting with RDDs. Let's create some sample data and see how RDDs handle it. To practice working with RDDs, we're going to use a simple Python list.\n",
    "\n",
    "- Create a Python list `data` of integers between 1 and 1000 using the `range()` function. \n",
    "- Sanity check : confirm the length of the list (it should be 1000)"
   ]
  },
  {
   "cell_type": "code",
   "execution_count": 2,
   "metadata": {},
   "outputs": [
    {
     "data": {
      "text/plain": [
       "1000"
      ]
     },
     "execution_count": 2,
     "metadata": {},
     "output_type": "execute_result"
    }
   ],
   "source": [
    "data = range(1000)\n",
    "len(data)\n",
    "\n",
    "#1000"
   ]
  },
  {
   "cell_type": "markdown",
   "metadata": {},
   "source": [
    "### Initialize an RDD\n",
    "\n",
    "To initialize an RDD, first import `pyspark` and then create a SparkContext assigned to the variable `sc`. Use 'local[*]' as the master."
   ]
  },
  {
   "cell_type": "code",
   "execution_count": 4,
   "metadata": {},
   "outputs": [],
   "source": [
    "import pyspark\n",
    "sc = pyspark.SparkContext(master='local[*]')"
   ]
  },
  {
   "cell_type": "markdown",
   "metadata": {},
   "source": [
    "Once you've created the SparkContext, you can use the `parallelize` method to create an rdd. Here, create one called `rdd` with 10 partitions using `data` as the collection you are parallelizing."
   ]
  },
  {
   "cell_type": "code",
   "execution_count": 5,
   "metadata": {},
   "outputs": [
    {
     "name": "stdout",
     "output_type": "stream",
     "text": [
      "<class 'pyspark.rdd.PipelinedRDD'>\n"
     ]
    }
   ],
   "source": [
    "rdd = sc.parallelize(data, numSlices=10)\n",
    "print(type(rdd))\n",
    "# <class 'pyspark.rdd.RDD'>"
   ]
  },
  {
   "cell_type": "markdown",
   "metadata": {},
   "source": [
    "Determine how many partitions are being used with this RDD with the getNumPartitions method."
   ]
  },
  {
   "cell_type": "code",
   "execution_count": 6,
   "metadata": {},
   "outputs": [
    {
     "data": {
      "text/plain": [
       "10"
      ]
     },
     "execution_count": 6,
     "metadata": {},
     "output_type": "execute_result"
    }
   ],
   "source": [
    "rdd.getNumPartitions()\n",
    "# 10"
   ]
  },
  {
   "cell_type": "markdown",
   "metadata": {},
   "source": [
    "### Basic descriptive RDD actions\n",
    "\n",
    "Let's perform some basic operations on our RDD. In the cell below, use the methods:\n",
    "* `count`: returns the total count of items in the RDD \n",
    "* `first`: returns the first item in the RDD\n",
    "* `take`: returns the first n items in the RDD\n",
    "* `top`: returns the top n items\n",
    "* `collect`: returns everything from your RDD\n",
    "\n",
    "\n",
    "It's important to note that in a big data context, calling the collect method will often take a very long time to execute and should be handled with care!"
   ]
  },
  {
   "cell_type": "code",
   "execution_count": 7,
   "metadata": {
    "scrolled": true
   },
   "outputs": [
    {
     "data": {
      "text/plain": [
       "1000"
      ]
     },
     "execution_count": 7,
     "metadata": {},
     "output_type": "execute_result"
    }
   ],
   "source": [
    "# count\n",
    "rdd.count()"
   ]
  },
  {
   "cell_type": "code",
   "execution_count": 10,
   "metadata": {},
   "outputs": [
    {
     "data": {
      "text/plain": [
       "0"
      ]
     },
     "execution_count": 10,
     "metadata": {},
     "output_type": "execute_result"
    }
   ],
   "source": [
    "# first\n",
    "rdd.first()"
   ]
  },
  {
   "cell_type": "code",
   "execution_count": 14,
   "metadata": {},
   "outputs": [
    {
     "data": {
      "text/plain": [
       "[0, 1, 2, 3, 4, 5, 6, 7, 8]"
      ]
     },
     "execution_count": 14,
     "metadata": {},
     "output_type": "execute_result"
    }
   ],
   "source": [
    "# take\n",
    "rdd.take(9)"
   ]
  },
  {
   "cell_type": "code",
   "execution_count": 21,
   "metadata": {},
   "outputs": [
    {
     "data": {
      "text/plain": [
       "[999, 998, 997]"
      ]
     },
     "execution_count": 21,
     "metadata": {},
     "output_type": "execute_result"
    }
   ],
   "source": [
    "# top\n",
    "rdd.top(3)"
   ]
  },
  {
   "cell_type": "code",
   "execution_count": 27,
   "metadata": {},
   "outputs": [
    {
     "name": "stdout",
     "output_type": "stream",
     "text": [
      "<class 'list'>\n"
     ]
    },
    {
     "data": {
      "text/plain": [
       "[0, 1, 2, 3, 4, 5, 6, 7, 8, 9, 10, 11, 12, 13, 14, 15, 16, 17, 18, 19]"
      ]
     },
     "execution_count": 27,
     "metadata": {},
     "output_type": "execute_result"
    }
   ],
   "source": [
    "# collect\n",
    "print(type(rdd.collect()))\n",
    "rdd.collect()[:20]"
   ]
  },
  {
   "cell_type": "markdown",
   "metadata": {},
   "source": [
    "## Map functions\n",
    "\n",
    "Now that you've working a little bit with RDDs, let's make this a little more interesting. Imagine you're running a hot new ecommerce startup called BuyStuff, and you're trying to track of how much it charges customers from each item sold. In the next cell, we're going to create simulated data by multiplying the values 1-1000 by a random number from 0-1."
   ]
  },
  {
   "cell_type": "code",
   "execution_count": 31,
   "metadata": {},
   "outputs": [
    {
     "data": {
      "text/plain": [
       "(array([0.05307809, 0.41981187, 0.85307459, 3.84039381]), 1000, (1000,))"
      ]
     },
     "execution_count": 31,
     "metadata": {},
     "output_type": "execute_result"
    }
   ],
   "source": [
    "import random\n",
    "import numpy as np\n",
    "\n",
    "nums = np.array(range(1,1001))\n",
    "sales_figures = nums * np.random.rand(1000)\n",
    "sales_figures[:4], len(sales_figures), sales_figures.shape"
   ]
  },
  {
   "cell_type": "markdown",
   "metadata": {},
   "source": [
    "We now have sales prices for 1000 items currently for sale at BuyStuff. Now create an RDD called `price_items` using the newly created data with 10 slices. After you create it, use one of the basic actions to see what's in the RDD."
   ]
  },
  {
   "cell_type": "code",
   "execution_count": 32,
   "metadata": {},
   "outputs": [
    {
     "data": {
      "text/plain": [
       "[0.05307809309588574,\n",
       " 0.41981186850608077,\n",
       " 0.8530745898926384,\n",
       " 3.8403938050027824,\n",
       " 1.551623465880469,\n",
       " 3.302653578924413,\n",
       " 4.770010910199214,\n",
       " 6.912270203632262,\n",
       " 1.9619830165426952,\n",
       " 7.49693122362617,\n",
       " 5.26647924596434,\n",
       " 11.793404629224398,\n",
       " 3.6391698668472054,\n",
       " 10.127191561654039,\n",
       " 5.914147591920155,\n",
       " 14.708178339093006,\n",
       " 4.316274354645162,\n",
       " 16.759353588695333,\n",
       " 16.22485562000404,\n",
       " 4.171278022151368]"
      ]
     },
     "execution_count": 32,
     "metadata": {},
     "output_type": "execute_result"
    }
   ],
   "source": [
    "price_items = sc.parallelize(sales_figures, numSlices=10)\n",
    "price_items.take(20)"
   ]
  },
  {
   "cell_type": "markdown",
   "metadata": {},
   "source": [
    "Now let's perform some operations on this simple dataset. To begin with, create a function that will take into account how much money BuyStuff will receive after sales tax has been applied (assume a sales tax of 8%). To make this happen, create a function called `sales_tax` that returns the amount of money our company will receive after the sale tax has been applied. The function will have this parameter:\n",
    "\n",
    "* `item`: (float) number to be multiplied by the sales tax.\n",
    "\n",
    "\n",
    "Apply that function to the rdd by using the map method and assign it to a variable `renenue_minus_tax`"
   ]
  },
  {
   "cell_type": "code",
   "execution_count": 33,
   "metadata": {},
   "outputs": [],
   "source": [
    "def sales_tax(num):\n",
    "    return 0.92*num\n",
    "\n",
    "revenue_minus_tax = price_items.map(sales_tax)"
   ]
  },
  {
   "cell_type": "markdown",
   "metadata": {},
   "source": [
    "Remember, Spark has __lazy evaluation__, which means that the `sales_tax` function is a transformer that is not executed until you call use an action. Use one of the collection methods to execute the transformer now a part of the RDD and observe the contents of the `revenue_minus_tax` rdd."
   ]
  },
  {
   "cell_type": "code",
   "execution_count": 34,
   "metadata": {
    "scrolled": true
   },
   "outputs": [
    {
     "data": {
      "text/plain": [
       "[0.04883184564821488,\n",
       " 0.3862269190255943,\n",
       " 0.7848286227012273,\n",
       " 3.53316230060256,\n",
       " 1.4274935886100315,\n",
       " 3.03844129261046,\n",
       " 4.388410037383277,\n",
       " 6.359288587341681,\n",
       " 1.8050243752192796,\n",
       " 6.8971767257360765,\n",
       " 4.845160906287193,\n",
       " 10.849932258886446,\n",
       " 3.3480362774994292,\n",
       " 9.317016236721717,\n",
       " 5.4410157845665434,\n",
       " 13.531524071965567,\n",
       " 3.970972406273549,\n",
       " 15.418605301599706,\n",
       " 14.926867170403716,\n",
       " 3.8375757803792587]"
      ]
     },
     "execution_count": 34,
     "metadata": {},
     "output_type": "execute_result"
    }
   ],
   "source": [
    "# perform action to retrieve rdd values\n",
    "revenue_minus_tax.take(20)"
   ]
  },
  {
   "cell_type": "markdown",
   "metadata": {},
   "source": [
    "### Lambda Functions\n",
    "\n",
    "Note that you can also use lambda functions if you want to quickly perform simple operations on data without creating a function. Let's assume that BuyStuff has also decided to offer a 10% discount on all of their items on the pre-tax amounts of each item. Use a lambda function within a map method to apply the additional 10% loss in revenue for BuyStuff and assign the transformed RDD to a new RDD called `discounted`."
   ]
  },
  {
   "cell_type": "code",
   "execution_count": 35,
   "metadata": {},
   "outputs": [],
   "source": [
    "discounted = price_items.map(lambda x: 0.9 * x)"
   ]
  },
  {
   "cell_type": "code",
   "execution_count": 36,
   "metadata": {
    "scrolled": true
   },
   "outputs": [
    {
     "data": {
      "text/plain": [
       "[0.04777028378629716,\n",
       " 0.3778306816554727,\n",
       " 0.7677671309033746,\n",
       " 3.4563544245025044,\n",
       " 1.3964611192924221,\n",
       " 2.972388221031972,\n",
       " 4.293009819179293,\n",
       " 6.221043183269035,\n",
       " 1.7657847148884258,\n",
       " 6.747238101263553]"
      ]
     },
     "execution_count": 36,
     "metadata": {},
     "output_type": "execute_result"
    }
   ],
   "source": [
    "discounted.take(10)"
   ]
  },
  {
   "cell_type": "markdown",
   "metadata": {},
   "source": [
    "## Chaining Methods\n",
    "\n",
    "You are also able to chain methods together with Spark. In one line, remove the tax and discount from the revenue of BuyStuff use a collection method to see the 15 costliest items."
   ]
  },
  {
   "cell_type": "code",
   "execution_count": null,
   "metadata": {},
   "outputs": [],
   "source": []
  },
  {
   "cell_type": "code",
   "execution_count": 65,
   "metadata": {
    "scrolled": true
   },
   "outputs": [],
   "source": [
    "discounted_taxed = price_items.map(lambda x: 0.9 * x).map(sales_tax)"
   ]
  },
  {
   "cell_type": "code",
   "execution_count": 67,
   "metadata": {},
   "outputs": [
    {
     "data": {
      "text/plain": [
       "[772.2341666826111,\n",
       " 758.3079080144475,\n",
       " 742.0469600208294,\n",
       " 720.8924307440476,\n",
       " 716.0373018307431,\n",
       " 714.1161016970622,\n",
       " 707.186091129475,\n",
       " 700.7629601375864,\n",
       " 700.7278367067074,\n",
       " 700.487987467589,\n",
       " 694.5192710499526,\n",
       " 693.2412378737611,\n",
       " 692.3790719012703,\n",
       " 690.8964452064233,\n",
       " 680.7574110951579]"
      ]
     },
     "execution_count": 67,
     "metadata": {},
     "output_type": "execute_result"
    }
   ],
   "source": [
    "discounted_taxed.top(15)"
   ]
  },
  {
   "cell_type": "markdown",
   "metadata": {},
   "source": [
    "## RDD Lineage\n",
    "\n",
    "\n",
    "We are able to see the full lineage of all the operations that have been performed on an RDD by using the `RDD.toDebugString()` method. As your transformations become more complex, you are encouraged to call this method to get a better understanding of the dependencies between RDDs. Try calling it on the `discounted` RDD to see what RDDs it is dependent on."
   ]
  },
  {
   "cell_type": "code",
   "execution_count": 57,
   "metadata": {},
   "outputs": [
    {
     "data": {
      "text/plain": [
       "b'(10) PythonRDD[20] at RDD at PythonRDD.scala:53 []\\n |   ParallelCollectionRDD[15] at parallelize at PythonRDD.scala:195 []'"
      ]
     },
     "execution_count": 57,
     "metadata": {},
     "output_type": "execute_result"
    }
   ],
   "source": [
    "discounted.toDebugString()"
   ]
  },
  {
   "cell_type": "markdown",
   "metadata": {},
   "source": [
    "### Map vs. Flatmap\n",
    "\n",
    "Depending on how you want your data to be outputted, you might want to use flatMap rather than a simple map. Let's take a look at how it performs operations versus the standard map. Let's say we wanted to maintain the original amount BuyStuff receives for each item as well as the new amount after the tax and discount are applied. Create a map function that will a tuple with (original price, post-discount price)."
   ]
  },
  {
   "cell_type": "code",
   "execution_count": 59,
   "metadata": {},
   "outputs": [],
   "source": [
    "def original_and_final(price):\n",
    "    return (price, 0.9 * 0.92 * price)"
   ]
  },
  {
   "cell_type": "code",
   "execution_count": 60,
   "metadata": {},
   "outputs": [
    {
     "name": "stdout",
     "output_type": "stream",
     "text": [
      "1000\n",
      "[(0.05307809309588574, 0.043948661083393396), (0.41981186850608077, 0.3476042271230349), (0.8530745898926384, 0.7063457604311046), (3.8403938050027824, 3.179846070542304), (1.551623465880469, 1.2847442297490286), (3.302653578924413, 2.7345971633494144), (4.770010910199214, 3.9495690336449494), (6.912270203632262, 5.723359728607513), (1.9619830165426952, 1.6245219376973519), (7.49693122362617, 6.207459053162469)]\n"
     ]
    }
   ],
   "source": [
    "mapped = price_items.map(original_and_final)\n",
    "print(mapped.count())\n",
    "print(mapped.take(10))"
   ]
  },
  {
   "cell_type": "markdown",
   "metadata": {},
   "source": [
    "Note that we have 1000 tuples created to our specification. Let's take a look at how flatMap differs in its implementation. Use the `flatMap` method with the same function you created above."
   ]
  },
  {
   "cell_type": "code",
   "execution_count": 61,
   "metadata": {},
   "outputs": [
    {
     "name": "stdout",
     "output_type": "stream",
     "text": [
      "2000\n",
      "[0.05307809309588574, 0.043948661083393396, 0.41981186850608077, 0.3476042271230349, 0.8530745898926384, 0.7063457604311046, 3.8403938050027824, 3.179846070542304, 1.551623465880469, 1.2847442297490286]\n"
     ]
    }
   ],
   "source": [
    "flat_mapped = price_items.flatMap(original_and_final)\n",
    "print(flat_mapped.count())\n",
    "print(flat_mapped.take(10))"
   ]
  },
  {
   "cell_type": "markdown",
   "metadata": {},
   "source": [
    "Rather than being represented by tuples, all of the  values are now on the same level. When we are trying to combine different items together, it is sometimes necessary to use flatmap rather than map in order to properly reduce to our specifications. This is not one of those instances, but int he upcoming lab, you just might have to use it."
   ]
  },
  {
   "cell_type": "markdown",
   "metadata": {},
   "source": [
    "## Filter\n",
    "After meeting with some external consultants, BuyStuff has determined that its business will be more profitable if it focuses on higher ticket items. Now, use the filter method to select items that bring in more than $300 after tax and discount have been removed. A filter method is a specialized form of a map function that only returns the items that match a certain criteria. In the cell below:\n",
    "* use a lambda function within a filter function to meet the consultant's suggestion's specifications. set RDD = `selected_items`\n",
    "* calculate the total number of items remaining in BuyStuff's inventory"
   ]
  },
  {
   "cell_type": "code",
   "execution_count": 64,
   "metadata": {},
   "outputs": [
    {
     "data": {
      "text/plain": [
       "123000.12947225547"
      ]
     },
     "execution_count": 64,
     "metadata": {},
     "output_type": "execute_result"
    }
   ],
   "source": [
    "# use the filter function\n",
    "selected_items = price_items.map(lambda x: 0.9 * x).map(sales_tax).filter(lambda x: x > 300)\n",
    "\n",
    "# calculate total remaining in inventory \n",
    "selected_items.sum()"
   ]
  },
  {
   "cell_type": "markdown",
   "metadata": {},
   "source": [
    "## Reduce\n",
    "\n",
    "Now it's time to figure out how much money BuyStuff would make from selling one of all of it's items after they've reduced their inventory. Use a reduce method with a lambda function to to add up all of the values in the RDD. Your lambda function should have two variables."
   ]
  },
  {
   "cell_type": "code",
   "execution_count": null,
   "metadata": {},
   "outputs": [],
   "source": []
  },
  {
   "cell_type": "code",
   "execution_count": 79,
   "metadata": {},
   "outputs": [
    {
     "data": {
      "text/plain": [
       "123000.12947225547"
      ]
     },
     "execution_count": 79,
     "metadata": {},
     "output_type": "execute_result"
    }
   ],
   "source": [
    "selected_items.reduce(lambda x, y: x + y )  #### UMMM what is this and whyy~!~"
   ]
  },
  {
   "cell_type": "markdown",
   "metadata": {},
   "source": [
    "The time has come for BuyStuff to open up shop and start selling it's goods. It only has one of each item, but it's allowing 50 lucky users to buy as many items as they want while they remain in stock. Within seconds, BuyStuff is sold out. Below, you'll find the sales data in an RDD with tuples of (user, item bought)."
   ]
  },
  {
   "cell_type": "code",
   "execution_count": 80,
   "metadata": {},
   "outputs": [
    {
     "data": {
      "text/plain": [
       "[(19, 315.13467509589066),\n",
       " (19, 328.77719081921646),\n",
       " (1, 347.2661136792646),\n",
       " (31, 340.9821881440296),\n",
       " (9, 334.8525747523765),\n",
       " (26, 342.3812794854528),\n",
       " (18, 369.15302705397045)]"
      ]
     },
     "execution_count": 80,
     "metadata": {},
     "output_type": "execute_result"
    }
   ],
   "source": [
    "import random\n",
    "random.seed(42)\n",
    "# generating simulated users that have bought each item\n",
    "sales_data = selected_items.map(lambda x: (random.randint(1,50),x))\n",
    "\n",
    "sales_data.take(7)"
   ]
  },
  {
   "cell_type": "markdown",
   "metadata": {},
   "source": [
    "It's time to determine some basic statistics about BuyStuff users.\n",
    "\n",
    "Let's start off by creating an RDD that determines how much each user spent in total.\n",
    "To do this we can use a method called __reduceByKey__ to perform reducing operations while grouping by keys. After you have calculated the total, use the __sortBy__ method on the RDD to rank the users from highest spending to least spending.\n",
    "\n"
   ]
  },
  {
   "cell_type": "code",
   "execution_count": 88,
   "metadata": {},
   "outputs": [],
   "source": [
    "# calculate how much each user spent\n",
    "users_totals = sales_data.reduceByKey(lambda x, y: x + y)"
   ]
  },
  {
   "cell_type": "code",
   "execution_count": 92,
   "metadata": {},
   "outputs": [
    {
     "data": {
      "text/plain": [
       "[(50, 7111.133843266804),\n",
       " (3, 6993.951272285914),\n",
       " (36, 6019.846744717547),\n",
       " (12, 5382.046028726367)]"
      ]
     },
     "execution_count": 92,
     "metadata": {},
     "output_type": "execute_result"
    }
   ],
   "source": [
    "users_totals.top(4, key=lambda x: x[1])"
   ]
  },
  {
   "cell_type": "code",
   "execution_count": 93,
   "metadata": {},
   "outputs": [
    {
     "data": {
      "text/plain": [
       "[(50, 7111.133843266804),\n",
       " (3, 6993.951272285914),\n",
       " (36, 6019.846744717547),\n",
       " (12, 5382.046028726367),\n",
       " (22, 5324.670705024808),\n",
       " (11, 5052.354947163147),\n",
       " (30, 5012.099766455478),\n",
       " (26, 4979.65507838893),\n",
       " (19, 4978.267512309194),\n",
       " (10, 4648.087008605762),\n",
       " (25, 4364.472098878403),\n",
       " (37, 4296.885382527296),\n",
       " (42, 4226.48024147076),\n",
       " (1, 3872.6672878124887),\n",
       " (4, 3676.1771686587454),\n",
       " (27, 3671.3588285523165),\n",
       " (32, 2982.29086407702),\n",
       " (47, 2910.7773446876554),\n",
       " (17, 2880.338972093219),\n",
       " (40, 2830.797212815872)]"
      ]
     },
     "execution_count": 93,
     "metadata": {},
     "output_type": "execute_result"
    }
   ],
   "source": [
    "# sort the users from highest to lowest spenders\n",
    "users_totals.sortBy(keyfunc=lambda x: x[1], ascending=False).take(20)"
   ]
  },
  {
   "cell_type": "markdown",
   "metadata": {},
   "source": [
    "Next, let's determine how many items were bought per user. This can be solved in one line using an RDD method. After you've counted the total number of items bought per person, sort the users from most number of items bought to least number of items. Time to start a customer loyalty program!"
   ]
  },
  {
   "cell_type": "code",
   "execution_count": 133,
   "metadata": {},
   "outputs": [
    {
     "data": {
      "text/plain": [
       "[(1, 14),\n",
       " (7, 12),\n",
       " (22, 10),\n",
       " (28, 10),\n",
       " (49, 10),\n",
       " (40, 9),\n",
       " (37, 9),\n",
       " (46, 8),\n",
       " (43, 8),\n",
       " (11, 7),\n",
       " (20, 7),\n",
       " (10, 7),\n",
       " (25, 6),\n",
       " (36, 6),\n",
       " (34, 6),\n",
       " (18, 6),\n",
       " (44, 6),\n",
       " (19, 6),\n",
       " (47, 6),\n",
       " (3, 5),\n",
       " (29, 5),\n",
       " (12, 5),\n",
       " (13, 5),\n",
       " (26, 5),\n",
       " (8, 5),\n",
       " (27, 5),\n",
       " (24, 5),\n",
       " (42, 5),\n",
       " (35, 4),\n",
       " (14, 4),\n",
       " (2, 4),\n",
       " (6, 4),\n",
       " (5, 4),\n",
       " (17, 4),\n",
       " (48, 4),\n",
       " (32, 3),\n",
       " (41, 3),\n",
       " (16, 3),\n",
       " (23, 3),\n",
       " (9, 3),\n",
       " (45, 3),\n",
       " (38, 3),\n",
       " (15, 2),\n",
       " (21, 2),\n",
       " (4, 2),\n",
       " (30, 2),\n",
       " (50, 2),\n",
       " (39, 1),\n",
       " (33, 1)]"
      ]
     },
     "execution_count": 133,
     "metadata": {},
     "output_type": "execute_result"
    }
   ],
   "source": [
    "sorted(sales_data.countByKey().items(), key=lambda x: x[1], reverse=True)"
   ]
  },
  {
   "cell_type": "markdown",
   "metadata": {},
   "source": [
    "### Additional Reading\n",
    "\n",
    "- [The original paper on RDDs](https://cs.stanford.edu/~matei/papers/2012/nsdi_spark.pdf)\n",
    "- [RDDs in Apache Spark](https://data-flair.training/blogs/create-rdds-in-apache-spark/)\n",
    "- [Programming with RDDs](https://runawayhorse001.github.io/LearningApacheSpark/rdd.html)\n",
    "- [RDD Transformations and Actions Summary](https://www.analyticsvidhya.com/blog/2016/10/using-pyspark-to-perform-transformations-and-actions-on-rdd/)"
   ]
  },
  {
   "cell_type": "markdown",
   "metadata": {},
   "source": [
    "## Summary\n",
    "\n",
    "In this lab we went through a brief introduction to RDD creation from a Python collection, setting a number of logical partitions for an RDD, and extracting lineage and of an RDD in a spark application. We also used transformations and actions to perform calculations across RDDs on a distributed setup. Up next, you'll get the chance to apply these transformations on different books to calculate word counts and various statistics.\n"
   ]
  }
 ],
 "metadata": {
  "kernelspec": {
   "display_name": "Python 3",
   "language": "python",
   "name": "python3"
  },
  "language_info": {
   "codemirror_mode": {
    "name": "ipython",
    "version": 3
   },
   "file_extension": ".py",
   "mimetype": "text/x-python",
   "name": "python",
   "nbconvert_exporter": "python",
   "pygments_lexer": "ipython3",
   "version": "3.6.6"
  }
 },
 "nbformat": 4,
 "nbformat_minor": 2
}
